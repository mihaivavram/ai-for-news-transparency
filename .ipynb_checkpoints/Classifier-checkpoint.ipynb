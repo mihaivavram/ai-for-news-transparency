{
 "cells": [
  {
   "cell_type": "code",
   "execution_count": 34,
   "metadata": {},
   "outputs": [],
   "source": [
    "# for organizing/storing data\n",
    "import pandas as pd\n",
    "# for language analysis magic\n",
    "import re, string, unicodedata\n",
    "import nltk\n",
    "import contractions\n",
    "import inflect\n",
    "from bs4 import BeautifulSoup\n",
    "from nltk import word_tokenize, sent_tokenize\n",
    "from nltk.corpus import stopwords\n",
    "from nltk.stem import LancasterStemmer, WordNetLemmatizer\n",
    "from vaderSentiment.vaderSentiment import SentimentIntensityAnalyzer\n"
   ]
  },
  {
   "cell_type": "code",
   "execution_count": 3,
   "metadata": {},
   "outputs": [],
   "source": [
    "# reading contents\n",
    "article_contents = pd.read_csv(\"./data/article.csv\", sep=',', header='infer')"
   ]
  },
  {
   "cell_type": "code",
   "execution_count": 45,
   "metadata": {},
   "outputs": [],
   "source": [
    "# useful functions from:\n",
    "# https://www.kdnuggets.com/2018/03/text-data-preprocessing-walkthrough-python.html\n",
    "\n",
    "def remove_non_ascii(words):\n",
    "    \"\"\"Remove non-ASCII characters from list of tokenized words\"\"\"\n",
    "    new_words = []\n",
    "    for word in words:\n",
    "        new_word = unicodedata.normalize('NFKD', word).encode('ascii', 'ignore').decode('utf-8', 'ignore')\n",
    "        new_words.append(new_word)\n",
    "    return new_words\n",
    "\n",
    "def to_lowercase(words):\n",
    "    \"\"\"Convert all characters to lowercase from list of tokenized words\"\"\"\n",
    "    new_words = []\n",
    "    for word in words:\n",
    "        new_word = word.lower()\n",
    "        new_words.append(new_word)\n",
    "    return new_words\n",
    "\n",
    "def remove_punctuation(words):\n",
    "    \"\"\"Remove punctuation from list of tokenized words\"\"\"\n",
    "    new_words = []\n",
    "    for word in words:\n",
    "        new_word = re.sub(r'[^\\w\\s]', '', word)\n",
    "        if new_word != '':\n",
    "            new_words.append(new_word)\n",
    "        else:\n",
    "            new_words.append(\"No normalized version\")\n",
    "    return new_words\n",
    "\n",
    "def replace_numbers(words):\n",
    "    \"\"\"Replace all interger occurrences in list of tokenized words with textual representation\"\"\"\n",
    "    p = inflect.engine()\n",
    "    new_words = []\n",
    "    for word in words:\n",
    "        if word == \"No normalized version\":\n",
    "            new_words.append(\"No normalized version\")\n",
    "            continue\n",
    "        if word.isdigit():\n",
    "            new_word = p.number_to_words(word)\n",
    "            new_words.append(new_word)\n",
    "        else:\n",
    "            new_words.append(word)\n",
    "    return new_words\n",
    "\n",
    "def remove_stopwords(words):\n",
    "    \"\"\"Remove stop words from list of tokenized words\"\"\"\n",
    "    new_words = []\n",
    "    for word in words:\n",
    "        if word not in stopwords.words('english'):\n",
    "            new_words.append(word)\n",
    "        else:\n",
    "            new_words.append(\"No normalized version\")\n",
    "    return new_words\n",
    "\n",
    "def stem_words(words):\n",
    "    \"\"\"Stem words in list of tokenized words\"\"\"\n",
    "    stemmer = LancasterStemmer()\n",
    "    stems = []\n",
    "    for word in words:\n",
    "        stem = stemmer.stem(word)\n",
    "        stems.append(stem)\n",
    "    return stems\n",
    "\n",
    "def lemmatize_verbs(words):\n",
    "    \"\"\"Lemmatize verbs in list of tokenized words\"\"\"\n",
    "    lemmatizer = WordNetLemmatizer()\n",
    "    lemmas = []\n",
    "    for word in words:\n",
    "        lemma = lemmatizer.lemmatize(word, pos='v')\n",
    "        lemmas.append(lemma)\n",
    "    return lemmas\n",
    "\n",
    "def normalize(words):\n",
    "    words = remove_non_ascii(words)\n",
    "    words = to_lowercase(words)\n",
    "    words = remove_punctuation(words)\n",
    "    words = replace_numbers(words)\n",
    "    words = remove_stopwords(words)\n",
    "    return words"
   ]
  },
  {
   "cell_type": "code",
   "execution_count": 50,
   "metadata": {},
   "outputs": [],
   "source": [
    "# Preparing data structure to hold all sentence/word features/classifications\n",
    "sent_feats = {}\n",
    "\n",
    "# preprocessing data\n",
    "for article_content in article_contents[\"content\"]:\n",
    "    sent_feats[\"canonical_sentence\"] = article_content\n",
    "    sent_feats[\"word_level_features\"] = {}\n",
    "    # tokenization\n",
    "    article_words = nltk.word_tokenize(article_content)\n",
    "    for word_ix, word in enumerate(article_words):\n",
    "        sent_feats[\"word_level_features\"][word_ix] = {}\n",
    "        sent_feats[\"word_level_features\"][word_ix][\"canonical\"] = word\n",
    "    # normalization, e.g. stemming\n",
    "    normalized_article_words = normalize(article_words)\n",
    "    for word_ix, word in enumerate(normalized_article_words):\n",
    "        sent_feats[\"word_level_features\"][word_ix][\"normalized\"] = word\n",
    "    # part of speech tagging\n",
    "    normalized_article_words_postags = nltk.pos_tag(article_words)\n",
    "    for word_ix, postag_tuple in enumerate(normalized_article_words_postags):\n",
    "        # 0 index is the word, 1 index is the pos tag\n",
    "        sent_feats[\"word_level_features\"][word_ix][\"pos_tag\"] = postag_tuple[1]"
   ]
  },
  {
   "cell_type": "code",
   "execution_count": 53,
   "metadata": {},
   "outputs": [
    {
     "name": "stdout",
     "output_type": "stream",
     "text": [
      "{'word_level_features': {0: {'canonical': 'The', 'normalized': 'No normalized version', 'pos_tag': 'DT', 'sentiment': {'neg': 0.0, 'neu': 1.0, 'pos': 0.0, 'compound': 0.0}}, 1: {'canonical': 'president', 'normalized': 'president', 'pos_tag': 'NN', 'sentiment': {'neg': 0.0, 'neu': 1.0, 'pos': 0.0, 'compound': 0.0}}, 2: {'canonical': 'would', 'normalized': 'would', 'pos_tag': 'MD', 'sentiment': {'neg': 0.0, 'neu': 1.0, 'pos': 0.0, 'compound': 0.0}}, 3: {'canonical': \"n't\", 'normalized': 'nt', 'pos_tag': 'RB', 'sentiment': {'neg': 0.0, 'neu': 1.0, 'pos': 0.0, 'compound': 0.0}}, 4: {'canonical': 'say', 'normalized': 'say', 'pos_tag': 'VB', 'sentiment': {'neg': 0.0, 'neu': 1.0, 'pos': 0.0, 'compound': 0.0}}, 5: {'canonical': 'he', 'normalized': 'No normalized version', 'pos_tag': 'PRP', 'sentiment': {'neg': 0.0, 'neu': 1.0, 'pos': 0.0, 'compound': 0.0}}, 6: {'canonical': 'would', 'normalized': 'would', 'pos_tag': 'MD', 'sentiment': {'neg': 0.0, 'neu': 1.0, 'pos': 0.0, 'compound': 0.0}}, 7: {'canonical': 'definitely', 'normalized': 'definitely', 'pos_tag': 'RB', 'sentiment': {'neg': 0.0, 'neu': 0.0, 'pos': 1.0, 'compound': 0.4019}}, 8: {'canonical': 'declare', 'normalized': 'declare', 'pos_tag': 'VB', 'sentiment': {'neg': 0.0, 'neu': 1.0, 'pos': 0.0, 'compound': 0.0}}, 9: {'canonical': 'an', 'normalized': 'No normalized version', 'pos_tag': 'DT', 'sentiment': {'neg': 0.0, 'neu': 1.0, 'pos': 0.0, 'compound': 0.0}}, 10: {'canonical': 'emergency', 'normalized': 'emergency', 'pos_tag': 'NN', 'sentiment': {'neg': 1.0, 'neu': 0.0, 'pos': 0.0, 'compound': -0.3818}}, 11: {'canonical': ',', 'normalized': 'No normalized version', 'pos_tag': ',', 'sentiment': {'neg': 0.0, 'neu': 0.0, 'pos': 0.0, 'compound': 0.0}}, 12: {'canonical': 'but', 'normalized': 'No normalized version', 'pos_tag': 'CC', 'sentiment': {'neg': 0.0, 'neu': 1.0, 'pos': 0.0, 'compound': 0.0}}, 13: {'canonical': 'he', 'normalized': 'No normalized version', 'pos_tag': 'PRP', 'sentiment': {'neg': 0.0, 'neu': 1.0, 'pos': 0.0, 'compound': 0.0}}, 14: {'canonical': 'told', 'normalized': 'told', 'pos_tag': 'VBD', 'sentiment': {'neg': 0.0, 'neu': 1.0, 'pos': 0.0, 'compound': 0.0}}, 15: {'canonical': 'reporters', 'normalized': 'reporters', 'pos_tag': 'NNS', 'sentiment': {'neg': 0.0, 'neu': 1.0, 'pos': 0.0, 'compound': 0.0}}, 16: {'canonical': 'that', 'normalized': 'No normalized version', 'pos_tag': 'IN', 'sentiment': {'neg': 0.0, 'neu': 1.0, 'pos': 0.0, 'compound': 0.0}}, 17: {'canonical': 'such', 'normalized': 'No normalized version', 'pos_tag': 'PDT', 'sentiment': {'neg': 0.0, 'neu': 1.0, 'pos': 0.0, 'compound': 0.0}}, 18: {'canonical': 'a', 'normalized': 'No normalized version', 'pos_tag': 'DT', 'sentiment': {'neg': 0.0, 'neu': 0.0, 'pos': 0.0, 'compound': 0.0}}, 19: {'canonical': 'declaration', 'normalized': 'declaration', 'pos_tag': 'NN', 'sentiment': {'neg': 0.0, 'neu': 1.0, 'pos': 0.0, 'compound': 0.0}}, 20: {'canonical': 'does', 'normalized': 'No normalized version', 'pos_tag': 'VBZ', 'sentiment': {'neg': 0.0, 'neu': 1.0, 'pos': 0.0, 'compound': 0.0}}, 21: {'canonical': 'help', 'normalized': 'help', 'pos_tag': 'VB', 'sentiment': {'neg': 0.0, 'neu': 0.0, 'pos': 1.0, 'compound': 0.4019}}, 22: {'canonical': 'the', 'normalized': 'No normalized version', 'pos_tag': 'DT', 'sentiment': {'neg': 0.0, 'neu': 1.0, 'pos': 0.0, 'compound': 0.0}}, 23: {'canonical': 'process', 'normalized': 'process', 'pos_tag': 'NN', 'sentiment': {'neg': 0.0, 'neu': 1.0, 'pos': 0.0, 'compound': 0.0}}, 24: {'canonical': '.', 'normalized': 'No normalized version', 'pos_tag': '.', 'sentiment': {'neg': 0.0, 'neu': 0.0, 'pos': 0.0, 'compound': 0.0}}, 25: {'canonical': \"''\", 'normalized': 'No normalized version', 'pos_tag': \"''\", 'sentiment': {'neg': 0.0, 'neu': 1.0, 'pos': 0.0, 'compound': 0.0}}}, 'sentence_sentiment': {'neg': 0.071, 'neu': 0.714, 'pos': 0.214, 'compound': 0.5574}}\n"
     ]
    }
   ],
   "source": [
    "# Sentiment Analysis Using Vader: https://github.com/cjhutto/vaderSentiment\n",
    "sentiment_analyzer = SentimentIntensityAnalyzer()\n",
    "for article_content in article_contents[\"content\"]:\n",
    "    sentence_level_sentiment = \\\n",
    "        sentiment_analyzer.polarity_scores(article_content)\n",
    "    sent_feats[\"sentence_sentiment\"] = sentence_level_sentiment\n",
    "    for key, word in sent_feats[\"word_level_features\"].items():\n",
    "        sent_feats[\"word_level_features\"][key][\"sentiment\"] = \\\n",
    "            sentiment_analyzer.polarity_scores(sent_feats[\"word_level_features\"][key][\"canonical\"])\n",
    "print(sent_feats)"
   ]
  }
 ],
 "metadata": {
  "kernelspec": {
   "display_name": "Python 3",
   "language": "python",
   "name": "python3"
  },
  "language_info": {
   "codemirror_mode": {
    "name": "ipython",
    "version": 3
   },
   "file_extension": ".py",
   "mimetype": "text/x-python",
   "name": "python",
   "nbconvert_exporter": "python",
   "pygments_lexer": "ipython3",
   "version": "3.6.7"
  }
 },
 "nbformat": 4,
 "nbformat_minor": 2
}
